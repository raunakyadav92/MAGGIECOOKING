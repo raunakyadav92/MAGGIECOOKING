{
  "nbformat": 4,
  "nbformat_minor": 0,
  "metadata": {
    "colab": {
      "provenance": [],
      "authorship_tag": "ABX9TyPjRbMquPp1mz4tQagq16Q4",
      "include_colab_link": true
    },
    "kernelspec": {
      "name": "python3",
      "display_name": "Python 3"
    },
    "language_info": {
      "name": "python"
    }
  },
  "cells": [
    {
      "cell_type": "markdown",
      "metadata": {
        "id": "view-in-github",
        "colab_type": "text"
      },
      "source": [
        "<a href=\"https://colab.research.google.com/github/raunakyadav92/MAGGIECOOKING/blob/main/maggiecooking.ipynb\" target=\"_parent\"><img src=\"https://colab.research.google.com/assets/colab-badge.svg\" alt=\"Open In Colab\"/></a>"
      ]
    },
    {
      "cell_type": "code",
      "execution_count": 1,
      "metadata": {
        "colab": {
          "base_uri": "https://localhost:8080/"
        },
        "id": "YjsoSB-0RIYD",
        "outputId": "0964997c-d86e-4e07-c9e8-7faf315e1092"
      },
      "outputs": [
        {
          "output_type": "stream",
          "name": "stdout",
          "text": [
            "\n",
            "🍜 Welcome to the Maggie Cooking Simulator! 🍜\n",
            "\n",
            "1️⃣ Add water to the pan 💧\n",
            "✅ Press Enter to continue to next step...\n",
            "\n",
            "2️⃣ Turn on the gas 🔥\n",
            "✅ Press Enter to continue to next step...\n",
            "\n",
            "3️⃣ Wait for water to boil... ⏳\n",
            "✅ Press Enter to continue to next step...\n",
            "\n",
            "⏳ Please wait while it's cooking...\n",
            "\n",
            "4️⃣ Add Maggie noodles 🍜\n",
            "✅ Press Enter to continue to next step...\n",
            "\n",
            "5️⃣ Cook for 2 minutes ⏳\n",
            "✅ Press Enter to continue to next step...\n",
            "\n",
            "⏳ Please wait while it's cooking...\n",
            "\n",
            "6️⃣ Maggie is Ready! 🎉 Enjoy your meal!\n",
            "✅ Press Enter to continue to next step...\n",
            "\n",
            "\n",
            "🎯 You successfully made Maggie!\n",
            "\n"
          ]
        }
      ],
      "source": [
        "import time\n",
        "\n",
        "print(\"\\n🍜 Welcome to the Maggie Cooking Simulator! 🍜\\n\")\n",
        "steps = [\n",
        "    \"1️⃣ Add water to the pan 💧\",\n",
        "    \"2️⃣ Turn on the gas 🔥\",\n",
        "    \"3️⃣ Wait for water to boil... ⏳\",\n",
        "    \"4️⃣ Add Maggie noodles 🍜\",\n",
        "    \"5️⃣ Cook for 2 minutes ⏳\",\n",
        "    \"6️⃣ Maggie is Ready! 🎉 Enjoy your meal!\"\n",
        "]\n",
        "\n",
        "for step in steps:\n",
        "    print(step)\n",
        "    input(\"✅ Press Enter to continue to next step...\\n\")\n",
        "    if \"boil\" in step or \"Cook\" in step:\n",
        "        print(\"⏳ Please wait while it's cooking...\\n\")\n",
        "        time.sleep(3)  # Wait for 3 seconds to simulate cooking time\n",
        "\n",
        "print(\"\\n🎯 You successfully made Maggie!\\n\")\n",
        "\n",
        "\n"
      ]
    }
  ]
}